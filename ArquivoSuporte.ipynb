{
 "cells": [
  {
   "cell_type": "code",
   "execution_count": null,
   "metadata": {},
   "outputs": [],
   "source": [
    "#Iniciar servidor Local web2py.py\n",
    "python web2py.py -a abc\n",
    "\n",
    "#Acessar no navegador\n",
    "http://127.0.0.1:8000\n",
    "\n",
    "http://127.0.0.1:8000/gestao_suprimentos\n",
    "\n",
    "## desligar to shutdown the web2py server\n",
    "\"taskkill /f /pid 1940\" \n"
   ]
  },
  {
   "cell_type": "code",
   "execution_count": null,
   "metadata": {},
   "outputs": [],
   "source": [
    "# Pseudo-código de atualização de estoque para movimentação de entrada\n",
    "def registrar_entrada(item_id, quantidade, local_estocado):\n",
    "    # Consulta o saldo atual\n",
    "    estoque_atual = consultar_estoque(item_id, local_estocado)\n",
    "    \n",
    "    if estoque_atual:  # Se o item já estiver no estoque\n",
    "        novo_saldo = estoque_atual + quantidade\n",
    "        atualizar_estoque(item_id, local_estocado, novo_saldo)\n",
    "    else:  # Se o item não estiver no estoque, insere um novo registro\n",
    "        inserir_novo_estoque(item_id, local_estocado, quantidade)\n",
    "\n",
    "# Pseudo-código de atualização de estoque para movimentação de saída\n",
    "def registrar_saida(item_id, quantidade, local_estocado):\n",
    "    # Consulta o saldo atual\n",
    "    estoque_atual = consultar_estoque(item_id, local_estocado)\n",
    "    \n",
    "    if estoque_atual and estoque_atual >= quantidade:  # Verifica se há saldo suficiente\n",
    "        novo_saldo = estoque_atual - quantidade\n",
    "        atualizar_estoque(item_id, local_estocado, novo_saldo)\n",
    "    else:\n",
    "        raise Exception(\"Saldo insuficiente no estoque\")\n"
   ]
  },
  {
   "cell_type": "code",
   "execution_count": null,
   "metadata": {},
   "outputs": [],
   "source": [
    "def cadastrar_usuario():\n",
    "    \"\"\"\n",
    "    Função para cadastrar novos usuários no sistema.\n",
    "    \"\"\"\n",
    "    # Define o formulário baseado na tabela ac_usuarios\n",
    "    form = SQLFORM(db.ac_usuarios)\n",
    "\n",
    "    # Validação do formulário\n",
    "    if form.process().accepted:\n",
    "        response.flash = 'Usuário cadastrado com sucesso!'\n",
    "        redirect(URL('listar_usuarios'))  # Redireciona após o cadastro bem-sucedido\n",
    "    elif form.errors:\n",
    "        response.flash = 'O formulário contém erros, por favor verifique.'\n",
    "\n",
    "    # Renderiza a página com o formulário\n",
    "    return dict(form=form)\n"
   ]
  },
  {
   "cell_type": "code",
   "execution_count": null,
   "metadata": {},
   "outputs": [],
   "source": [
    "db = DAL('mysql://root:@localhost/gestao_suprimentos', migrate_enabled=True)\n",
    "\n",
    "db.define_table('ac_usuarios',\n",
    "    Field('nome', 'string', label=\"Nome\", length=100),\n",
    "    Field('nivel_acesso', 'string', requires=IS_IN_SET(['Administrador', 'Usuário Padrão', 'Gestor']), label=\"Nível de Acesso\"),\n",
    "    Field('login', 'string', length=50, unique=True, label=\"Login\"),\n",
    "    Field('senha', 'password', label=\"Senha\"),\n",
    "    Field('status', 'string', requires=IS_IN_SET(['Ativo', 'Inativo']), label=\"Status\"),\n",
    "    Field('limite_aprovacao', 'double', label=\"Limite de Aprovação\"),\n",
    "    Field('centro_custo', 'string', length=50, label=\"Centro de Custo\"),\n",
    "    migrate=False\n",
    ")\n",
    "\n",
    "db.define_table('ac_item',\n",
    "    Field('descricao_item', 'string', length=255, label=\"Descrição do Item\"),\n",
    "    Field('valor_unitario', 'double', label=\"Valor Unitário\"),\n",
    "    Field('unidade_medida', 'string', length=50, label=\"Unidade de Medida\"),\n",
    "    Field('parametros', 'string', length=255, label=\"Parâmetros\"),\n",
    "    # Inclua qualquer outro campo relevante para itens/produtos/serviços\n",
    "    migrate=False\n",
    ")\n",
    "\n",
    "db.define_table('ac_estoque',\n",
    "    Field('item_id', 'reference ac_item', label=\"Item\"),\n",
    "    Field('local_estocado', 'string', length=60, label=\"Local Estocado\"),\n",
    "    Field('quantidade_atual', 'integer', label=\"Quantidade Atual\"),\n",
    "    migrate=False\n",
    ")\n",
    "\n",
    "db.define_table('ac_movimentacoes_estoque',\n",
    "    Field('item_id', 'reference ac_item', label=\"Item\"),\n",
    "    Field('usuario_id', 'reference ac_usuarios', label=\"Usuário\"),\n",
    "    Field('tipo_movimentacao', 'string', requires=IS_IN_SET(['entrada', 'saida']), label=\"Tipo de Movimentação\"),\n",
    "    Field('quantidade', 'integer', label=\"Quantidade\"),\n",
    "    Field('data_movimentacao', 'date', label=\"Data da Movimentação\"),\n",
    "    Field('local_estocado', 'string', length=60, label=\"Local Estocado\"),\n",
    "    Field('valor_movimentacao', 'double', label=\"Valor da Movimentação\"),\n",
    "    migrate=False\n",
    ")\n",
    "\n",
    "\n",
    "# -------------------------------------------------------------------------\n",
    "# after defining tables, uncomment below to enable auditing\n",
    "# -------------------------------------------------------------------------\n",
    "auth.enable_record_versioning(db)\n"
   ]
  },
  {
   "cell_type": "code",
   "execution_count": null,
   "metadata": {},
   "outputs": [],
   "source": [
    "{{extend 'layout.html'}}\n",
    "\n",
    "{{block header}}\n",
    "<div class=\"jumbotron jumbotron-fluid background\" style=\"background-color: #333; color:white; padding:30px;word-wrap:break-word;\">\n",
    "  <h3 class=\"mb-4 text-center\">Cadastrar Usuarios</h3>\n",
    "</div>\n",
    "{{end}}\n",
    "\n",
    "<div class=\"row\">\n",
    "    <!-- <h1>Cadastrar Usuário</h1> -->\n",
    "    {{=form}}\n",
    "</div>"
   ]
  }
 ],
 "metadata": {
  "kernelspec": {
   "display_name": "powerbi_env",
   "language": "python",
   "name": "python3"
  },
  "language_info": {
   "codemirror_mode": {
    "name": "ipython",
    "version": 3
   },
   "file_extension": ".py",
   "mimetype": "text/x-python",
   "name": "python",
   "nbconvert_exporter": "python",
   "pygments_lexer": "ipython3",
   "version": "3.7.12"
  }
 },
 "nbformat": 4,
 "nbformat_minor": 2
}
